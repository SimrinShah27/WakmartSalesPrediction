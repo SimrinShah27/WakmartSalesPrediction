{
 "cells": [
  {
   "cell_type": "code",
   "execution_count": 1,
   "metadata": {
    "execution": {
     "iopub.execute_input": "2022-11-26T20:42:14.363587Z",
     "iopub.status.busy": "2022-11-26T20:42:14.363083Z",
     "iopub.status.idle": "2022-11-26T20:42:15.424973Z",
     "shell.execute_reply": "2022-11-26T20:42:15.423940Z",
     "shell.execute_reply.started": "2022-11-26T20:42:14.363549Z"
    }
   },
   "outputs": [],
   "source": [
    "import numpy as np\n",
    "import pandas as pd\n",
    "import matplotlib.pyplot as plt\n",
    "import seaborn as sns\n",
    "%matplotlib inline\n",
    "import warnings\n",
    "warnings.filterwarnings('ignore')"
   ]
  },
  {
   "cell_type": "code",
   "execution_count": 2,
   "metadata": {
    "execution": {
     "iopub.execute_input": "2022-11-26T20:42:15.427810Z",
     "iopub.status.busy": "2022-11-26T20:42:15.427004Z",
     "iopub.status.idle": "2022-11-26T20:42:15.806858Z",
     "shell.execute_reply": "2022-11-26T20:42:15.805603Z",
     "shell.execute_reply.started": "2022-11-26T20:42:15.427749Z"
    }
   },
   "outputs": [],
   "source": [
    "stores = pd.read_csv(\"stores.csv\")\n",
    "train = pd.read_csv(\"train.csv\")\n",
    "features = pd.read_csv(\"features.csv\")"
   ]
  },
  {
   "cell_type": "code",
   "execution_count": 3,
   "metadata": {
    "execution": {
     "iopub.execute_input": "2022-11-26T20:42:15.808493Z",
     "iopub.status.busy": "2022-11-26T20:42:15.808164Z",
     "iopub.status.idle": "2022-11-26T20:42:15.829935Z",
     "shell.execute_reply": "2022-11-26T20:42:15.828725Z",
     "shell.execute_reply.started": "2022-11-26T20:42:15.808464Z"
    }
   },
   "outputs": [
    {
     "data": {
      "text/html": [
       "<div>\n",
       "<style scoped>\n",
       "    .dataframe tbody tr th:only-of-type {\n",
       "        vertical-align: middle;\n",
       "    }\n",
       "\n",
       "    .dataframe tbody tr th {\n",
       "        vertical-align: top;\n",
       "    }\n",
       "\n",
       "    .dataframe thead th {\n",
       "        text-align: right;\n",
       "    }\n",
       "</style>\n",
       "<table border=\"1\" class=\"dataframe\">\n",
       "  <thead>\n",
       "    <tr style=\"text-align: right;\">\n",
       "      <th></th>\n",
       "      <th>Store</th>\n",
       "      <th>Dept</th>\n",
       "      <th>Date</th>\n",
       "      <th>Weekly_Sales</th>\n",
       "      <th>IsHoliday</th>\n",
       "    </tr>\n",
       "  </thead>\n",
       "  <tbody>\n",
       "    <tr>\n",
       "      <th>0</th>\n",
       "      <td>1</td>\n",
       "      <td>1</td>\n",
       "      <td>2010-02-05</td>\n",
       "      <td>24924.50</td>\n",
       "      <td>False</td>\n",
       "    </tr>\n",
       "    <tr>\n",
       "      <th>1</th>\n",
       "      <td>1</td>\n",
       "      <td>1</td>\n",
       "      <td>2010-02-12</td>\n",
       "      <td>46039.49</td>\n",
       "      <td>True</td>\n",
       "    </tr>\n",
       "    <tr>\n",
       "      <th>2</th>\n",
       "      <td>1</td>\n",
       "      <td>1</td>\n",
       "      <td>2010-02-19</td>\n",
       "      <td>41595.55</td>\n",
       "      <td>False</td>\n",
       "    </tr>\n",
       "    <tr>\n",
       "      <th>3</th>\n",
       "      <td>1</td>\n",
       "      <td>1</td>\n",
       "      <td>2010-02-26</td>\n",
       "      <td>19403.54</td>\n",
       "      <td>False</td>\n",
       "    </tr>\n",
       "    <tr>\n",
       "      <th>4</th>\n",
       "      <td>1</td>\n",
       "      <td>1</td>\n",
       "      <td>2010-03-05</td>\n",
       "      <td>21827.90</td>\n",
       "      <td>False</td>\n",
       "    </tr>\n",
       "    <tr>\n",
       "      <th>5</th>\n",
       "      <td>1</td>\n",
       "      <td>1</td>\n",
       "      <td>2010-03-12</td>\n",
       "      <td>21043.39</td>\n",
       "      <td>False</td>\n",
       "    </tr>\n",
       "    <tr>\n",
       "      <th>6</th>\n",
       "      <td>1</td>\n",
       "      <td>1</td>\n",
       "      <td>2010-03-19</td>\n",
       "      <td>22136.64</td>\n",
       "      <td>False</td>\n",
       "    </tr>\n",
       "    <tr>\n",
       "      <th>7</th>\n",
       "      <td>1</td>\n",
       "      <td>1</td>\n",
       "      <td>2010-03-26</td>\n",
       "      <td>26229.21</td>\n",
       "      <td>False</td>\n",
       "    </tr>\n",
       "    <tr>\n",
       "      <th>8</th>\n",
       "      <td>1</td>\n",
       "      <td>1</td>\n",
       "      <td>2010-04-02</td>\n",
       "      <td>57258.43</td>\n",
       "      <td>False</td>\n",
       "    </tr>\n",
       "    <tr>\n",
       "      <th>9</th>\n",
       "      <td>1</td>\n",
       "      <td>1</td>\n",
       "      <td>2010-04-09</td>\n",
       "      <td>42960.91</td>\n",
       "      <td>False</td>\n",
       "    </tr>\n",
       "  </tbody>\n",
       "</table>\n",
       "</div>"
      ],
      "text/plain": [
       "   Store  Dept        Date  Weekly_Sales  IsHoliday\n",
       "0      1     1  2010-02-05      24924.50      False\n",
       "1      1     1  2010-02-12      46039.49       True\n",
       "2      1     1  2010-02-19      41595.55      False\n",
       "3      1     1  2010-02-26      19403.54      False\n",
       "4      1     1  2010-03-05      21827.90      False\n",
       "5      1     1  2010-03-12      21043.39      False\n",
       "6      1     1  2010-03-19      22136.64      False\n",
       "7      1     1  2010-03-26      26229.21      False\n",
       "8      1     1  2010-04-02      57258.43      False\n",
       "9      1     1  2010-04-09      42960.91      False"
      ]
     },
     "execution_count": 3,
     "metadata": {},
     "output_type": "execute_result"
    }
   ],
   "source": [
    "train.head(10)"
   ]
  },
  {
   "cell_type": "code",
   "execution_count": 4,
   "metadata": {
    "execution": {
     "iopub.execute_input": "2022-11-26T20:42:15.831614Z",
     "iopub.status.busy": "2022-11-26T20:42:15.831268Z",
     "iopub.status.idle": "2022-11-26T20:42:15.854282Z",
     "shell.execute_reply": "2022-11-26T20:42:15.852859Z",
     "shell.execute_reply.started": "2022-11-26T20:42:15.831582Z"
    }
   },
   "outputs": [
    {
     "data": {
      "text/html": [
       "<div>\n",
       "<style scoped>\n",
       "    .dataframe tbody tr th:only-of-type {\n",
       "        vertical-align: middle;\n",
       "    }\n",
       "\n",
       "    .dataframe tbody tr th {\n",
       "        vertical-align: top;\n",
       "    }\n",
       "\n",
       "    .dataframe thead th {\n",
       "        text-align: right;\n",
       "    }\n",
       "</style>\n",
       "<table border=\"1\" class=\"dataframe\">\n",
       "  <thead>\n",
       "    <tr style=\"text-align: right;\">\n",
       "      <th></th>\n",
       "      <th>Store</th>\n",
       "      <th>Date</th>\n",
       "      <th>Temperature</th>\n",
       "      <th>Fuel_Price</th>\n",
       "      <th>MarkDown1</th>\n",
       "      <th>MarkDown2</th>\n",
       "      <th>MarkDown3</th>\n",
       "      <th>MarkDown4</th>\n",
       "      <th>MarkDown5</th>\n",
       "      <th>CPI</th>\n",
       "      <th>Unemployment</th>\n",
       "      <th>IsHoliday</th>\n",
       "    </tr>\n",
       "  </thead>\n",
       "  <tbody>\n",
       "    <tr>\n",
       "      <th>0</th>\n",
       "      <td>1</td>\n",
       "      <td>2010-02-05</td>\n",
       "      <td>42.31</td>\n",
       "      <td>2.572</td>\n",
       "      <td>NaN</td>\n",
       "      <td>NaN</td>\n",
       "      <td>NaN</td>\n",
       "      <td>NaN</td>\n",
       "      <td>NaN</td>\n",
       "      <td>211.096358</td>\n",
       "      <td>8.106</td>\n",
       "      <td>False</td>\n",
       "    </tr>\n",
       "    <tr>\n",
       "      <th>1</th>\n",
       "      <td>1</td>\n",
       "      <td>2010-02-12</td>\n",
       "      <td>38.51</td>\n",
       "      <td>2.548</td>\n",
       "      <td>NaN</td>\n",
       "      <td>NaN</td>\n",
       "      <td>NaN</td>\n",
       "      <td>NaN</td>\n",
       "      <td>NaN</td>\n",
       "      <td>211.242170</td>\n",
       "      <td>8.106</td>\n",
       "      <td>True</td>\n",
       "    </tr>\n",
       "    <tr>\n",
       "      <th>2</th>\n",
       "      <td>1</td>\n",
       "      <td>2010-02-19</td>\n",
       "      <td>39.93</td>\n",
       "      <td>2.514</td>\n",
       "      <td>NaN</td>\n",
       "      <td>NaN</td>\n",
       "      <td>NaN</td>\n",
       "      <td>NaN</td>\n",
       "      <td>NaN</td>\n",
       "      <td>211.289143</td>\n",
       "      <td>8.106</td>\n",
       "      <td>False</td>\n",
       "    </tr>\n",
       "    <tr>\n",
       "      <th>3</th>\n",
       "      <td>1</td>\n",
       "      <td>2010-02-26</td>\n",
       "      <td>46.63</td>\n",
       "      <td>2.561</td>\n",
       "      <td>NaN</td>\n",
       "      <td>NaN</td>\n",
       "      <td>NaN</td>\n",
       "      <td>NaN</td>\n",
       "      <td>NaN</td>\n",
       "      <td>211.319643</td>\n",
       "      <td>8.106</td>\n",
       "      <td>False</td>\n",
       "    </tr>\n",
       "    <tr>\n",
       "      <th>4</th>\n",
       "      <td>1</td>\n",
       "      <td>2010-03-05</td>\n",
       "      <td>46.50</td>\n",
       "      <td>2.625</td>\n",
       "      <td>NaN</td>\n",
       "      <td>NaN</td>\n",
       "      <td>NaN</td>\n",
       "      <td>NaN</td>\n",
       "      <td>NaN</td>\n",
       "      <td>211.350143</td>\n",
       "      <td>8.106</td>\n",
       "      <td>False</td>\n",
       "    </tr>\n",
       "    <tr>\n",
       "      <th>5</th>\n",
       "      <td>1</td>\n",
       "      <td>2010-03-12</td>\n",
       "      <td>57.79</td>\n",
       "      <td>2.667</td>\n",
       "      <td>NaN</td>\n",
       "      <td>NaN</td>\n",
       "      <td>NaN</td>\n",
       "      <td>NaN</td>\n",
       "      <td>NaN</td>\n",
       "      <td>211.380643</td>\n",
       "      <td>8.106</td>\n",
       "      <td>False</td>\n",
       "    </tr>\n",
       "    <tr>\n",
       "      <th>6</th>\n",
       "      <td>1</td>\n",
       "      <td>2010-03-19</td>\n",
       "      <td>54.58</td>\n",
       "      <td>2.720</td>\n",
       "      <td>NaN</td>\n",
       "      <td>NaN</td>\n",
       "      <td>NaN</td>\n",
       "      <td>NaN</td>\n",
       "      <td>NaN</td>\n",
       "      <td>211.215635</td>\n",
       "      <td>8.106</td>\n",
       "      <td>False</td>\n",
       "    </tr>\n",
       "    <tr>\n",
       "      <th>7</th>\n",
       "      <td>1</td>\n",
       "      <td>2010-03-26</td>\n",
       "      <td>51.45</td>\n",
       "      <td>2.732</td>\n",
       "      <td>NaN</td>\n",
       "      <td>NaN</td>\n",
       "      <td>NaN</td>\n",
       "      <td>NaN</td>\n",
       "      <td>NaN</td>\n",
       "      <td>211.018042</td>\n",
       "      <td>8.106</td>\n",
       "      <td>False</td>\n",
       "    </tr>\n",
       "    <tr>\n",
       "      <th>8</th>\n",
       "      <td>1</td>\n",
       "      <td>2010-04-02</td>\n",
       "      <td>62.27</td>\n",
       "      <td>2.719</td>\n",
       "      <td>NaN</td>\n",
       "      <td>NaN</td>\n",
       "      <td>NaN</td>\n",
       "      <td>NaN</td>\n",
       "      <td>NaN</td>\n",
       "      <td>210.820450</td>\n",
       "      <td>7.808</td>\n",
       "      <td>False</td>\n",
       "    </tr>\n",
       "    <tr>\n",
       "      <th>9</th>\n",
       "      <td>1</td>\n",
       "      <td>2010-04-09</td>\n",
       "      <td>65.86</td>\n",
       "      <td>2.770</td>\n",
       "      <td>NaN</td>\n",
       "      <td>NaN</td>\n",
       "      <td>NaN</td>\n",
       "      <td>NaN</td>\n",
       "      <td>NaN</td>\n",
       "      <td>210.622857</td>\n",
       "      <td>7.808</td>\n",
       "      <td>False</td>\n",
       "    </tr>\n",
       "  </tbody>\n",
       "</table>\n",
       "</div>"
      ],
      "text/plain": [
       "   Store        Date  Temperature  Fuel_Price  MarkDown1  MarkDown2  \\\n",
       "0      1  2010-02-05        42.31       2.572        NaN        NaN   \n",
       "1      1  2010-02-12        38.51       2.548        NaN        NaN   \n",
       "2      1  2010-02-19        39.93       2.514        NaN        NaN   \n",
       "3      1  2010-02-26        46.63       2.561        NaN        NaN   \n",
       "4      1  2010-03-05        46.50       2.625        NaN        NaN   \n",
       "5      1  2010-03-12        57.79       2.667        NaN        NaN   \n",
       "6      1  2010-03-19        54.58       2.720        NaN        NaN   \n",
       "7      1  2010-03-26        51.45       2.732        NaN        NaN   \n",
       "8      1  2010-04-02        62.27       2.719        NaN        NaN   \n",
       "9      1  2010-04-09        65.86       2.770        NaN        NaN   \n",
       "\n",
       "   MarkDown3  MarkDown4  MarkDown5         CPI  Unemployment  IsHoliday  \n",
       "0        NaN        NaN        NaN  211.096358         8.106      False  \n",
       "1        NaN        NaN        NaN  211.242170         8.106       True  \n",
       "2        NaN        NaN        NaN  211.289143         8.106      False  \n",
       "3        NaN        NaN        NaN  211.319643         8.106      False  \n",
       "4        NaN        NaN        NaN  211.350143         8.106      False  \n",
       "5        NaN        NaN        NaN  211.380643         8.106      False  \n",
       "6        NaN        NaN        NaN  211.215635         8.106      False  \n",
       "7        NaN        NaN        NaN  211.018042         8.106      False  \n",
       "8        NaN        NaN        NaN  210.820450         7.808      False  \n",
       "9        NaN        NaN        NaN  210.622857         7.808      False  "
      ]
     },
     "execution_count": 4,
     "metadata": {},
     "output_type": "execute_result"
    }
   ],
   "source": [
    "features.head(10)"
   ]
  },
  {
   "cell_type": "code",
   "execution_count": 5,
   "metadata": {
    "execution": {
     "iopub.execute_input": "2022-11-26T20:42:15.858742Z",
     "iopub.status.busy": "2022-11-26T20:42:15.858402Z",
     "iopub.status.idle": "2022-11-26T20:42:15.871711Z",
     "shell.execute_reply": "2022-11-26T20:42:15.870287Z",
     "shell.execute_reply.started": "2022-11-26T20:42:15.858711Z"
    }
   },
   "outputs": [
    {
     "data": {
      "text/html": [
       "<div>\n",
       "<style scoped>\n",
       "    .dataframe tbody tr th:only-of-type {\n",
       "        vertical-align: middle;\n",
       "    }\n",
       "\n",
       "    .dataframe tbody tr th {\n",
       "        vertical-align: top;\n",
       "    }\n",
       "\n",
       "    .dataframe thead th {\n",
       "        text-align: right;\n",
       "    }\n",
       "</style>\n",
       "<table border=\"1\" class=\"dataframe\">\n",
       "  <thead>\n",
       "    <tr style=\"text-align: right;\">\n",
       "      <th></th>\n",
       "      <th>Store</th>\n",
       "      <th>Type</th>\n",
       "      <th>Size</th>\n",
       "    </tr>\n",
       "  </thead>\n",
       "  <tbody>\n",
       "    <tr>\n",
       "      <th>0</th>\n",
       "      <td>1</td>\n",
       "      <td>A</td>\n",
       "      <td>151315</td>\n",
       "    </tr>\n",
       "    <tr>\n",
       "      <th>1</th>\n",
       "      <td>2</td>\n",
       "      <td>A</td>\n",
       "      <td>202307</td>\n",
       "    </tr>\n",
       "    <tr>\n",
       "      <th>2</th>\n",
       "      <td>3</td>\n",
       "      <td>B</td>\n",
       "      <td>37392</td>\n",
       "    </tr>\n",
       "    <tr>\n",
       "      <th>3</th>\n",
       "      <td>4</td>\n",
       "      <td>A</td>\n",
       "      <td>205863</td>\n",
       "    </tr>\n",
       "    <tr>\n",
       "      <th>4</th>\n",
       "      <td>5</td>\n",
       "      <td>B</td>\n",
       "      <td>34875</td>\n",
       "    </tr>\n",
       "    <tr>\n",
       "      <th>5</th>\n",
       "      <td>6</td>\n",
       "      <td>A</td>\n",
       "      <td>202505</td>\n",
       "    </tr>\n",
       "    <tr>\n",
       "      <th>6</th>\n",
       "      <td>7</td>\n",
       "      <td>B</td>\n",
       "      <td>70713</td>\n",
       "    </tr>\n",
       "    <tr>\n",
       "      <th>7</th>\n",
       "      <td>8</td>\n",
       "      <td>A</td>\n",
       "      <td>155078</td>\n",
       "    </tr>\n",
       "    <tr>\n",
       "      <th>8</th>\n",
       "      <td>9</td>\n",
       "      <td>B</td>\n",
       "      <td>125833</td>\n",
       "    </tr>\n",
       "    <tr>\n",
       "      <th>9</th>\n",
       "      <td>10</td>\n",
       "      <td>B</td>\n",
       "      <td>126512</td>\n",
       "    </tr>\n",
       "  </tbody>\n",
       "</table>\n",
       "</div>"
      ],
      "text/plain": [
       "   Store Type    Size\n",
       "0      1    A  151315\n",
       "1      2    A  202307\n",
       "2      3    B   37392\n",
       "3      4    A  205863\n",
       "4      5    B   34875\n",
       "5      6    A  202505\n",
       "6      7    B   70713\n",
       "7      8    A  155078\n",
       "8      9    B  125833\n",
       "9     10    B  126512"
      ]
     },
     "execution_count": 5,
     "metadata": {},
     "output_type": "execute_result"
    }
   ],
   "source": [
    "stores.head(10)"
   ]
  },
  {
   "cell_type": "markdown",
   "metadata": {},
   "source": [
    "# EDA"
   ]
  },
  {
   "cell_type": "markdown",
   "metadata": {},
   "source": [
    "## stores.csv"
   ]
  },
  {
   "cell_type": "code",
   "execution_count": 6,
   "metadata": {
    "execution": {
     "iopub.execute_input": "2022-11-26T20:42:15.888224Z",
     "iopub.status.busy": "2022-11-26T20:42:15.886646Z",
     "iopub.status.idle": "2022-11-26T20:42:16.125614Z",
     "shell.execute_reply": "2022-11-26T20:42:16.124489Z",
     "shell.execute_reply.started": "2022-11-26T20:42:15.888176Z"
    }
   },
   "outputs": [
    {
     "data": {
      "image/png": "[encoded data removed]",
      "text/plain": [
       "<Figure size 432x288 with 1 Axes>"
      ]
     },
     "metadata": {},
     "output_type": "display_data"
    }
   ],
   "source": [
    "#pie-chart for the visual representation of store types\n",
    "#https://pythonspot.com/matplotlib-pie-chart/\n",
    "# Data to plot\n",
    "value, counts  = np.unique(stores['Type'], return_counts= True)\n",
    "labels = 'store A','store B','store C'\n",
    "sizes = list(counts/sum(counts))\n",
    "colors = ['gold', 'yellowgreen', 'lightcoral']\n",
    "explode = (0.1, 0, 0)  # explode 1st slice\n",
    "\n",
    "# Plot\n",
    "plt.pie(sizes, explode=explode, labels=labels, colors=colors,\n",
    "autopct='%1.1f%%', shadow=True, startangle=140)\n",
    "plt.legend(labels, loc=\"best\")\n",
    "plt.axis('equal')\n",
    "plt.show()"
   ]
  },
  {
   "cell_type": "code",
   "execution_count": 7,
   "metadata": {
    "execution": {
     "iopub.execute_input": "2022-11-26T20:42:16.128270Z",
     "iopub.status.busy": "2022-11-26T20:42:16.127056Z",
     "iopub.status.idle": "2022-11-26T20:42:16.309092Z",
     "shell.execute_reply": "2022-11-26T20:42:16.308230Z",
     "shell.execute_reply.started": "2022-11-26T20:42:16.128226Z"
    }
   },
   "outputs": [
    {
     "data": {
      "image/png": "[encoded data removed]",
      "text/plain": [
       "<Figure size 576x432 with 1 Axes>"
      ]
     },
     "metadata": {
      "needs_background": "light"
     },
     "output_type": "display_data"
    }
   ],
   "source": [
    "# boxplot for sizes of types of stores\n",
    "store_type = pd.concat([stores['Type'], stores['Size']], axis=1)\n",
    "f, ax = plt.subplots(figsize=(8, 6))\n",
    "fig = sns.boxplot(x='Type', y='Size', data=store_type)\n"
   ]
  },
  {
   "cell_type": "code",
   "execution_count": 8,
   "metadata": {
    "execution": {
     "iopub.execute_input": "2022-11-26T20:42:16.313092Z",
     "iopub.status.busy": "2022-11-26T20:42:16.312492Z",
     "iopub.status.idle": "2022-11-26T20:42:16.317916Z",
     "shell.execute_reply": "2022-11-26T20:42:16.316823Z",
     "shell.execute_reply.started": "2022-11-26T20:42:16.313057Z"
    }
   },
   "outputs": [],
   "source": [
    "# Some proof to suggest store types don't overlap and possibly use either one of  store Type or Size. "
   ]
  },
  {
   "cell_type": "markdown",
   "metadata": {},
   "source": [
    "## train.csv"
   ]
  },
  {
   "cell_type": "code",
   "execution_count": 9,
   "metadata": {
    "execution": {
     "iopub.execute_input": "2022-11-26T20:42:16.323076Z",
     "iopub.status.busy": "2022-11-26T20:42:16.319306Z",
     "iopub.status.idle": "2022-11-26T20:42:16.363662Z",
     "shell.execute_reply": "2022-11-26T20:42:16.362462Z",
     "shell.execute_reply.started": "2022-11-26T20:42:16.323028Z"
    }
   },
   "outputs": [
    {
     "name": "stdout",
     "output_type": "stream",
     "text": [
      "<class 'pandas.core.frame.DataFrame'>\n",
      "RangeIndex: 421570 entries, 0 to 421569\n",
      "Data columns (total 5 columns):\n",
      " #   Column        Non-Null Count   Dtype  \n",
      "---  ------        --------------   -----  \n",
      " 0   Store         421570 non-null  int64  \n",
      " 1   Dept          421570 non-null  int64  \n",
      " 2   Date          421570 non-null  object \n",
      " 3   Weekly_Sales  421570 non-null  float64\n",
      " 4   IsHoliday     421570 non-null  bool   \n",
      "dtypes: bool(1), float64(1), int64(2), object(1)\n",
      "memory usage: 13.3+ MB\n"
     ]
    }
   ],
   "source": [
    "train.info()"
   ]
  },
  {
   "cell_type": "code",
   "execution_count": 10,
   "metadata": {
    "execution": {
     "iopub.execute_input": "2022-11-26T20:42:16.365537Z",
     "iopub.status.busy": "2022-11-26T20:42:16.365214Z",
     "iopub.status.idle": "2022-11-26T20:42:16.436307Z",
     "shell.execute_reply": "2022-11-26T20:42:16.435365Z",
     "shell.execute_reply.started": "2022-11-26T20:42:16.365505Z"
    }
   },
   "outputs": [],
   "source": [
    "train['Date'] =  pd.to_datetime(train['Date'])"
   ]
  },
  {
   "cell_type": "code",
   "execution_count": 11,
   "metadata": {
    "execution": {
     "iopub.execute_input": "2022-11-26T20:42:16.438173Z",
     "iopub.status.busy": "2022-11-26T20:42:16.437391Z",
     "iopub.status.idle": "2022-11-26T20:42:16.649002Z",
     "shell.execute_reply": "2022-11-26T20:42:16.647796Z",
     "shell.execute_reply.started": "2022-11-26T20:42:16.438140Z"
    }
   },
   "outputs": [
    {
     "data": {
      "text/plain": [
       "<AxesSubplot:xlabel='IsHoliday'>"
      ]
     },
     "execution_count": 11,
     "metadata": {},
     "output_type": "execute_result"
    },
    {
     "data": {
      "image/png": "[encoded data removed]",
      "text/plain": [
       "<Figure size 432x288 with 1 Axes>"
      ]
     },
     "metadata": {
      "needs_background": "light"
     },
     "output_type": "display_data"
    }
   ],
   "source": [
    "# sales vs holiday\n",
    "\n",
    "sns.barplot(data = train, x= train.groupby('IsHoliday')['Weekly_Sales'].mean().index, y = train.groupby('IsHoliday')['Weekly_Sales'].mean().values)\n"
   ]
  },
  {
   "cell_type": "code",
   "execution_count": 12,
   "metadata": {
    "execution": {
     "iopub.execute_input": "2022-11-26T20:42:16.650966Z",
     "iopub.status.busy": "2022-11-26T20:42:16.650527Z",
     "iopub.status.idle": "2022-11-26T20:42:17.061808Z",
     "shell.execute_reply": "2022-11-26T20:42:17.060846Z",
     "shell.execute_reply.started": "2022-11-26T20:42:16.650931Z"
    }
   },
   "outputs": [
    {
     "data": {
      "image/png": "[encoded data removed]",
      "text/plain": [
       "<Figure size 1440x360 with 2 Axes>"
      ]
     },
     "metadata": {},
     "output_type": "display_data"
    }
   ],
   "source": [
    "# boxplot for sizes of types of stores\n",
    "plt.style.use('ggplot')\n",
    "fig, axes = plt.subplots(1,2, figsize = (20,5))\n",
    "fig.subplots_adjust(wspace=1, hspace=1)\n",
    "fig.subplots_adjust(left=0.1, right=0.9, bottom=0.1, top=0.9)\n",
    "\n",
    "sales_holiday=train[['IsHoliday','Weekly_Sales']]\n",
    "target=[sales_holiday['Weekly_Sales'].loc[sales_holiday['IsHoliday']==True],sales_holiday['Weekly_Sales'].loc[sales_holiday['IsHoliday']==False]]\n",
    "labels=['Holiday','Not Holiday']\n",
    "\n",
    "\n",
    "axes[0].boxplot(target,labels=labels, patch_artist = 'Patch',\n",
    "                  showmeans=True)\n",
    "\n",
    "\n",
    "axes[1].boxplot(target,labels=labels, patch_artist = 'Patch',\n",
    "                  showmeans=True)\n",
    "\n",
    "axes[1].set_ylim(-6000,80000)\n",
    "\n",
    "plt.show()"
   ]
  },
  {
   "cell_type": "code",
   "execution_count": 13,
   "metadata": {
    "execution": {
     "iopub.execute_input": "2022-11-26T20:42:17.068051Z",
     "iopub.status.busy": "2022-11-26T20:42:17.067656Z",
     "iopub.status.idle": "2022-11-26T20:42:17.072292Z",
     "shell.execute_reply": "2022-11-26T20:42:17.071127Z",
     "shell.execute_reply.started": "2022-11-26T20:42:17.068015Z"
    }
   },
   "outputs": [],
   "source": [
    "# Avg sales on holidays is a little more \n",
    "# Few Outliers in Holiday = \"True\""
   ]
  },
  {
   "cell_type": "code",
   "execution_count": 14,
   "metadata": {
    "execution": {
     "iopub.execute_input": "2022-11-26T20:42:17.074388Z",
     "iopub.status.busy": "2022-11-26T20:42:17.073381Z",
     "iopub.status.idle": "2022-11-26T20:42:17.653810Z",
     "shell.execute_reply": "2022-11-26T20:42:17.652870Z",
     "shell.execute_reply.started": "2022-11-26T20:42:17.074352Z"
    }
   },
   "outputs": [
    {
     "name": "stdout",
     "output_type": "stream",
     "text": [
      "4 2011-09-11 00:00:00\n",
      "5 2011-09-12 00:00:00\n",
      "8 2012-11-23 00:00:00\n",
      "11 2012-12-28 00:00:00\n"
     ]
    },
    {
     "data": {
      "image/png": "[encoded data removed]",
      "text/plain": [
       "<Figure size 1440x1080 with 1 Axes>"
      ]
     },
     "metadata": {},
     "output_type": "display_data"
    }
   ],
   "source": [
    "super_bowl_week = ['2010-02-12', '2011-02-11', '2012-02-10']#, '2013-02-8']\n",
    "labor_day_week = ['2010-09-10', '2011-09-11', '2011-09-12']#,'2013-09-06']\n",
    "thanksgiving_week = ['2010-11-26','2011-11-25','2012-11-23']#','2013-11-29']\n",
    "christmas_week = ['2010-12-31','2011-12-30','2012-12-28']#,'2013-12-27']\n",
    "\n",
    "holiday_weeks = pd.to_datetime(super_bowl_week + labor_day_week +thanksgiving_week+christmas_week)\n",
    "\n",
    "train.groupby(['Date'])['Weekly_Sales'].sum().index\n",
    "sns.set(rc={\"figure.figsize\":(20, 15)})\n",
    "x_axis = train.groupby(['Date'])['Weekly_Sales'].sum().index\n",
    "y_axis = train.groupby(['Date'])['Weekly_Sales'].sum().values\n",
    "sns.lineplot( x = x_axis, y = y_axis,ci = False)\n",
    "for pos, value in enumerate(holiday_weeks):\n",
    "    try:\n",
    "        plt.text(value,y_axis[np.where(np.array(x_axis) == holiday_weeks[pos])[0][0]] , \"*\", horizontalalignment='left', size='medium', color='red', weight='bold')\n",
    "    except:\n",
    "        print(pos, value)\n",
    "        \n",
    "   \n",
    "    \n",
    "plt.show()\n"
   ]
  },
  {
   "cell_type": "code",
   "execution_count": 15,
   "metadata": {
    "execution": {
     "iopub.execute_input": "2022-11-26T20:42:17.655908Z",
     "iopub.status.busy": "2022-11-26T20:42:17.655505Z",
     "iopub.status.idle": "2022-11-26T20:42:20.005125Z",
     "shell.execute_reply": "2022-11-26T20:42:20.003983Z",
     "shell.execute_reply.started": "2022-11-26T20:42:17.655874Z"
    }
   },
   "outputs": [
    {
     "data": {
      "text/plain": [
       "<AxesSubplot:xlabel='Dept'>"
      ]
     },
     "execution_count": 15,
     "metadata": {},
     "output_type": "execute_result"
    },
    {
     "data": {
      "image/png": "[encoded data removed]",
      "text/plain": [
       "<Figure size 1440x1080 with 1 Axes>"
      ]
     },
     "metadata": {},
     "output_type": "display_data"
    }
   ],
   "source": [
    "# Mean sales vs department\n",
    "x_axis = train.groupby(['Dept'])['Weekly_Sales'].mean().index\n",
    "y_axis = train.groupby(['Dept'])['Weekly_Sales'].mean().values\n",
    "\n",
    "sns.barplot(x = x_axis , y = y_axis)"
   ]
  },
  {
   "cell_type": "code",
   "execution_count": 16,
   "metadata": {
    "execution": {
     "iopub.execute_input": "2022-11-26T20:42:20.007540Z",
     "iopub.status.busy": "2022-11-26T20:42:20.006566Z",
     "iopub.status.idle": "2022-11-26T20:42:20.011709Z",
     "shell.execute_reply": "2022-11-26T20:42:20.010728Z",
     "shell.execute_reply.started": "2022-11-26T20:42:20.007494Z"
    }
   },
   "outputs": [],
   "source": [
    "# Departments like 39,43,45,47 .., have very low average weekly sales.\n",
    "# Departments numbers 65 to 95 have higher weekly sales comparred to other departments."
   ]
  },
  {
   "cell_type": "code",
   "execution_count": 17,
   "metadata": {
    "execution": {
     "iopub.execute_input": "2022-11-26T20:42:20.013933Z",
     "iopub.status.busy": "2022-11-26T20:42:20.013266Z",
     "iopub.status.idle": "2022-11-26T20:42:20.262049Z",
     "shell.execute_reply": "2022-11-26T20:42:20.260920Z",
     "shell.execute_reply.started": "2022-11-26T20:42:20.013892Z"
    }
   },
   "outputs": [],
   "source": [
    "# Combining DataFrames \n",
    "\n",
    "df = pd.merge(train, stores, how = 'inner', on = 'Store')\n",
    "features['Date'] = pd.to_datetime(features['Date'])\n",
    "df = pd.merge(df , features, how = 'inner', on = ['Store','Date','IsHoliday'])"
   ]
  },
  {
   "cell_type": "code",
   "execution_count": 18,
   "metadata": {
    "execution": {
     "iopub.execute_input": "2022-11-26T20:42:20.289330Z",
     "iopub.status.busy": "2022-11-26T20:42:20.288240Z",
     "iopub.status.idle": "2022-11-26T20:42:22.204716Z",
     "shell.execute_reply": "2022-11-26T20:42:22.203458Z",
     "shell.execute_reply.started": "2022-11-26T20:42:20.289285Z"
    }
   },
   "outputs": [
    {
     "data": {
      "text/plain": [
       "<AxesSubplot:xlabel='Store'>"
      ]
     },
     "execution_count": 18,
     "metadata": {},
     "output_type": "execute_result"
    },
    {
     "data": {
      "image/png": "[encoded data removed]",
      "text/plain": [
       "<Figure size 1440x1080 with 1 Axes>"
      ]
     },
     "metadata": {},
     "output_type": "display_data"
    }
   ],
   "source": [
    "# Mean sales vs store\n",
    "x_axis = train.groupby(['Store'])['Weekly_Sales'].mean().index\n",
    "y_axis = train.groupby(['Store'])['Weekly_Sales'].mean().values\n",
    "\n",
    "sns.barplot(x = x_axis , y = y_axis, hue= stores['Type'])"
   ]
  },
  {
   "cell_type": "markdown",
   "metadata": {},
   "source": [
    "# TODO: Month wise sales "
   ]
  },
  {
   "cell_type": "code",
   "execution_count": 19,
   "metadata": {
    "execution": {
     "iopub.execute_input": "2022-11-26T20:42:22.207523Z",
     "iopub.status.busy": "2022-11-26T20:42:22.206399Z",
     "iopub.status.idle": "2022-11-26T20:42:22.211711Z",
     "shell.execute_reply": "2022-11-26T20:42:22.210795Z",
     "shell.execute_reply.started": "2022-11-26T20:42:22.207485Z"
    }
   },
   "outputs": [],
   "source": [
    "# Store Type = A has more sales followed B and C."
   ]
  },
  {
   "cell_type": "markdown",
   "metadata": {},
   "source": [
    "# Data Cleaning"
   ]
  },
  {
   "cell_type": "code",
   "execution_count": 20,
   "metadata": {
    "execution": {
     "iopub.execute_input": "2022-11-26T20:42:22.213400Z",
     "iopub.status.busy": "2022-11-26T20:42:22.212699Z",
     "iopub.status.idle": "2022-11-26T20:42:22.266201Z",
     "shell.execute_reply": "2022-11-26T20:42:22.265000Z",
     "shell.execute_reply.started": "2022-11-26T20:42:22.213367Z"
    }
   },
   "outputs": [
    {
     "name": "stdout",
     "output_type": "stream",
     "text": [
      "<class 'pandas.core.frame.DataFrame'>\n",
      "Int64Index: 421570 entries, 0 to 421569\n",
      "Data columns (total 16 columns):\n",
      " #   Column        Non-Null Count   Dtype         \n",
      "---  ------        --------------   -----         \n",
      " 0   Store         421570 non-null  int64         \n",
      " 1   Dept          421570 non-null  int64         \n",
      " 2   Date          421570 non-null  datetime64[ns]\n",
      " 3   Weekly_Sales  421570 non-null  float64       \n",
      " 4   IsHoliday     421570 non-null  bool          \n",
      " 5   Type          421570 non-null  object        \n",
      " 6   Size          421570 non-null  int64         \n",
      " 7   Temperature   421570 non-null  float64       \n",
      " 8   Fuel_Price    421570 non-null  float64       \n",
      " 9   MarkDown1     150681 non-null  float64       \n",
      " 10  MarkDown2     111248 non-null  float64       \n",
      " 11  MarkDown3     137091 non-null  float64       \n",
      " 12  MarkDown4     134967 non-null  float64       \n",
      " 13  MarkDown5     151432 non-null  float64       \n",
      " 14  CPI           421570 non-null  float64       \n",
      " 15  Unemployment  421570 non-null  float64       \n",
      "dtypes: bool(1), datetime64[ns](1), float64(10), int64(3), object(1)\n",
      "memory usage: 51.9+ MB\n"
     ]
    }
   ],
   "source": [
    "df.info()"
   ]
  },
  {
   "cell_type": "code",
   "execution_count": 21,
   "metadata": {
    "execution": {
     "iopub.execute_input": "2022-11-26T20:42:22.268655Z",
     "iopub.status.busy": "2022-11-26T20:42:22.267873Z",
     "iopub.status.idle": "2022-11-26T20:42:22.516708Z",
     "shell.execute_reply": "2022-11-26T20:42:22.515924Z",
     "shell.execute_reply.started": "2022-11-26T20:42:22.268605Z"
    }
   },
   "outputs": [
    {
     "data": {
      "text/html": [
       "<div>\n",
       "<style scoped>\n",
       "    .dataframe tbody tr th:only-of-type {\n",
       "        vertical-align: middle;\n",
       "    }\n",
       "\n",
       "    .dataframe tbody tr th {\n",
       "        vertical-align: top;\n",
       "    }\n",
       "\n",
       "    .dataframe thead th {\n",
       "        text-align: right;\n",
       "    }\n",
       "</style>\n",
       "<table border=\"1\" class=\"dataframe\">\n",
       "  <thead>\n",
       "    <tr style=\"text-align: right;\">\n",
       "      <th></th>\n",
       "      <th>Store</th>\n",
       "      <th>Dept</th>\n",
       "      <th>Weekly_Sales</th>\n",
       "      <th>Size</th>\n",
       "      <th>Temperature</th>\n",
       "      <th>Fuel_Price</th>\n",
       "      <th>MarkDown1</th>\n",
       "      <th>MarkDown2</th>\n",
       "      <th>MarkDown3</th>\n",
       "      <th>MarkDown4</th>\n",
       "      <th>MarkDown5</th>\n",
       "      <th>CPI</th>\n",
       "      <th>Unemployment</th>\n",
       "    </tr>\n",
       "  </thead>\n",
       "  <tbody>\n",
       "    <tr>\n",
       "      <th>count</th>\n",
       "      <td>421570.000000</td>\n",
       "      <td>421570.000000</td>\n",
       "      <td>421570.000000</td>\n",
       "      <td>421570.000000</td>\n",
       "      <td>421570.000000</td>\n",
       "      <td>421570.000000</td>\n",
       "      <td>150681.000000</td>\n",
       "      <td>111248.000000</td>\n",
       "      <td>137091.000000</td>\n",
       "      <td>134967.000000</td>\n",
       "      <td>151432.000000</td>\n",
       "      <td>421570.000000</td>\n",
       "      <td>421570.000000</td>\n",
       "    </tr>\n",
       "    <tr>\n",
       "      <th>mean</th>\n",
       "      <td>22.200546</td>\n",
       "      <td>44.260317</td>\n",
       "      <td>15981.258123</td>\n",
       "      <td>136727.915739</td>\n",
       "      <td>60.090059</td>\n",
       "      <td>3.361027</td>\n",
       "      <td>7246.420196</td>\n",
       "      <td>3334.628621</td>\n",
       "      <td>1439.421384</td>\n",
       "      <td>3383.168256</td>\n",
       "      <td>4628.975079</td>\n",
       "      <td>171.201947</td>\n",
       "      <td>7.960289</td>\n",
       "    </tr>\n",
       "    <tr>\n",
       "      <th>std</th>\n",
       "      <td>12.785297</td>\n",
       "      <td>30.492054</td>\n",
       "      <td>22711.183519</td>\n",
       "      <td>60980.583328</td>\n",
       "      <td>18.447931</td>\n",
       "      <td>0.458515</td>\n",
       "      <td>8291.221345</td>\n",
       "      <td>9475.357325</td>\n",
       "      <td>9623.078290</td>\n",
       "      <td>6292.384031</td>\n",
       "      <td>5962.887455</td>\n",
       "      <td>39.159276</td>\n",
       "      <td>1.863296</td>\n",
       "    </tr>\n",
       "    <tr>\n",
       "      <th>min</th>\n",
       "      <td>1.000000</td>\n",
       "      <td>1.000000</td>\n",
       "      <td>-4988.940000</td>\n",
       "      <td>34875.000000</td>\n",
       "      <td>-2.060000</td>\n",
       "      <td>2.472000</td>\n",
       "      <td>0.270000</td>\n",
       "      <td>-265.760000</td>\n",
       "      <td>-29.100000</td>\n",
       "      <td>0.220000</td>\n",
       "      <td>135.160000</td>\n",
       "      <td>126.064000</td>\n",
       "      <td>3.879000</td>\n",
       "    </tr>\n",
       "    <tr>\n",
       "      <th>25%</th>\n",
       "      <td>11.000000</td>\n",
       "      <td>18.000000</td>\n",
       "      <td>2079.650000</td>\n",
       "      <td>93638.000000</td>\n",
       "      <td>46.680000</td>\n",
       "      <td>2.933000</td>\n",
       "      <td>2240.270000</td>\n",
       "      <td>41.600000</td>\n",
       "      <td>5.080000</td>\n",
       "      <td>504.220000</td>\n",
       "      <td>1878.440000</td>\n",
       "      <td>132.022667</td>\n",
       "      <td>6.891000</td>\n",
       "    </tr>\n",
       "    <tr>\n",
       "      <th>50%</th>\n",
       "      <td>22.000000</td>\n",
       "      <td>37.000000</td>\n",
       "      <td>7612.030000</td>\n",
       "      <td>140167.000000</td>\n",
       "      <td>62.090000</td>\n",
       "      <td>3.452000</td>\n",
       "      <td>5347.450000</td>\n",
       "      <td>192.000000</td>\n",
       "      <td>24.600000</td>\n",
       "      <td>1481.310000</td>\n",
       "      <td>3359.450000</td>\n",
       "      <td>182.318780</td>\n",
       "      <td>7.866000</td>\n",
       "    </tr>\n",
       "    <tr>\n",
       "      <th>75%</th>\n",
       "      <td>33.000000</td>\n",
       "      <td>74.000000</td>\n",
       "      <td>20205.852500</td>\n",
       "      <td>202505.000000</td>\n",
       "      <td>74.280000</td>\n",
       "      <td>3.738000</td>\n",
       "      <td>9210.900000</td>\n",
       "      <td>1926.940000</td>\n",
       "      <td>103.990000</td>\n",
       "      <td>3595.040000</td>\n",
       "      <td>5563.800000</td>\n",
       "      <td>212.416993</td>\n",
       "      <td>8.572000</td>\n",
       "    </tr>\n",
       "    <tr>\n",
       "      <th>max</th>\n",
       "      <td>45.000000</td>\n",
       "      <td>99.000000</td>\n",
       "      <td>693099.360000</td>\n",
       "      <td>219622.000000</td>\n",
       "      <td>100.140000</td>\n",
       "      <td>4.468000</td>\n",
       "      <td>88646.760000</td>\n",
       "      <td>104519.540000</td>\n",
       "      <td>141630.610000</td>\n",
       "      <td>67474.850000</td>\n",
       "      <td>108519.280000</td>\n",
       "      <td>227.232807</td>\n",
       "      <td>14.313000</td>\n",
       "    </tr>\n",
       "  </tbody>\n",
       "</table>\n",
       "</div>"
      ],
      "text/plain": [
       "               Store           Dept   Weekly_Sales           Size  \\\n",
       "count  421570.000000  421570.000000  421570.000000  421570.000000   \n",
       "mean       22.200546      44.260317   15981.258123  136727.915739   \n",
       "std        12.785297      30.492054   22711.183519   60980.583328   \n",
       "min         1.000000       1.000000   -4988.940000   34875.000000   \n",
       "25%        11.000000      18.000000    2079.650000   93638.000000   \n",
       "50%        22.000000      37.000000    7612.030000  140167.000000   \n",
       "75%        33.000000      74.000000   20205.852500  202505.000000   \n",
       "max        45.000000      99.000000  693099.360000  219622.000000   \n",
       "\n",
       "         Temperature     Fuel_Price      MarkDown1      MarkDown2  \\\n",
       "count  421570.000000  421570.000000  150681.000000  111248.000000   \n",
       "mean       60.090059       3.361027    7246.420196    3334.628621   \n",
       "std        18.447931       0.458515    8291.221345    9475.357325   \n",
       "min        -2.060000       2.472000       0.270000    -265.760000   \n",
       "25%        46.680000       2.933000    2240.270000      41.600000   \n",
       "50%        62.090000       3.452000    5347.450000     192.000000   \n",
       "75%        74.280000       3.738000    9210.900000    1926.940000   \n",
       "max       100.140000       4.468000   88646.760000  104519.540000   \n",
       "\n",
       "           MarkDown3      MarkDown4      MarkDown5            CPI  \\\n",
       "count  137091.000000  134967.000000  151432.000000  421570.000000   \n",
       "mean     1439.421384    3383.168256    4628.975079     171.201947   \n",
       "std      9623.078290    6292.384031    5962.887455      39.159276   \n",
       "min       -29.100000       0.220000     135.160000     126.064000   \n",
       "25%         5.080000     504.220000    1878.440000     132.022667   \n",
       "50%        24.600000    1481.310000    3359.450000     182.318780   \n",
       "75%       103.990000    3595.040000    5563.800000     212.416993   \n",
       "max    141630.610000   67474.850000  108519.280000     227.232807   \n",
       "\n",
       "        Unemployment  \n",
       "count  421570.000000  \n",
       "mean        7.960289  \n",
       "std         1.863296  \n",
       "min         3.879000  \n",
       "25%         6.891000  \n",
       "50%         7.866000  \n",
       "75%         8.572000  \n",
       "max        14.313000  "
      ]
     },
     "execution_count": 21,
     "metadata": {},
     "output_type": "execute_result"
    }
   ],
   "source": [
    "# OUTLIERS \n",
    "df.describe()"
   ]
  },
  {
   "cell_type": "code",
   "execution_count": 22,
   "metadata": {
    "execution": {
     "iopub.execute_input": "2022-11-26T20:42:22.518157Z",
     "iopub.status.busy": "2022-11-26T20:42:22.517811Z",
     "iopub.status.idle": "2022-11-26T20:42:22.523230Z",
     "shell.execute_reply": "2022-11-26T20:42:22.522157Z",
     "shell.execute_reply.started": "2022-11-26T20:42:22.518125Z"
    }
   },
   "outputs": [],
   "source": [
    "# Based on the above statistics weekly sales have few neagtive values. (elaborate)"
   ]
  },
  {
   "cell_type": "code",
   "execution_count": 23,
   "metadata": {
    "execution": {
     "iopub.execute_input": "2022-11-26T20:42:22.524649Z",
     "iopub.status.busy": "2022-11-26T20:42:22.524362Z",
     "iopub.status.idle": "2022-11-26T20:42:22.564098Z",
     "shell.execute_reply": "2022-11-26T20:42:22.562900Z",
     "shell.execute_reply.started": "2022-11-26T20:42:22.524621Z"
    }
   },
   "outputs": [
    {
     "data": {
      "text/html": [
       "<div>\n",
       "<style scoped>\n",
       "    .dataframe tbody tr th:only-of-type {\n",
       "        vertical-align: middle;\n",
       "    }\n",
       "\n",
       "    .dataframe tbody tr th {\n",
       "        vertical-align: top;\n",
       "    }\n",
       "\n",
       "    .dataframe thead th {\n",
       "        text-align: right;\n",
       "    }\n",
       "</style>\n",
       "<table border=\"1\" class=\"dataframe\">\n",
       "  <thead>\n",
       "    <tr style=\"text-align: right;\">\n",
       "      <th></th>\n",
       "      <th>Store</th>\n",
       "      <th>Dept</th>\n",
       "      <th>Date</th>\n",
       "      <th>Weekly_Sales</th>\n",
       "      <th>IsHoliday</th>\n",
       "      <th>Type</th>\n",
       "      <th>Size</th>\n",
       "      <th>Temperature</th>\n",
       "      <th>Fuel_Price</th>\n",
       "      <th>MarkDown1</th>\n",
       "      <th>MarkDown2</th>\n",
       "      <th>MarkDown3</th>\n",
       "      <th>MarkDown4</th>\n",
       "      <th>MarkDown5</th>\n",
       "      <th>CPI</th>\n",
       "      <th>Unemployment</th>\n",
       "    </tr>\n",
       "  </thead>\n",
       "  <tbody>\n",
       "    <tr>\n",
       "      <th>188</th>\n",
       "      <td>1</td>\n",
       "      <td>47</td>\n",
       "      <td>2010-02-19</td>\n",
       "      <td>-863.00</td>\n",
       "      <td>False</td>\n",
       "      <td>A</td>\n",
       "      <td>151315</td>\n",
       "      <td>39.93</td>\n",
       "      <td>2.514</td>\n",
       "      <td>NaN</td>\n",
       "      <td>NaN</td>\n",
       "      <td>NaN</td>\n",
       "      <td>NaN</td>\n",
       "      <td>NaN</td>\n",
       "      <td>211.289143</td>\n",
       "      <td>8.106</td>\n",
       "    </tr>\n",
       "    <tr>\n",
       "      <th>406</th>\n",
       "      <td>1</td>\n",
       "      <td>47</td>\n",
       "      <td>2010-03-12</td>\n",
       "      <td>-698.00</td>\n",
       "      <td>False</td>\n",
       "      <td>A</td>\n",
       "      <td>151315</td>\n",
       "      <td>57.79</td>\n",
       "      <td>2.667</td>\n",
       "      <td>NaN</td>\n",
       "      <td>NaN</td>\n",
       "      <td>NaN</td>\n",
       "      <td>NaN</td>\n",
       "      <td>NaN</td>\n",
       "      <td>211.380643</td>\n",
       "      <td>8.106</td>\n",
       "    </tr>\n",
       "    <tr>\n",
       "      <th>2549</th>\n",
       "      <td>1</td>\n",
       "      <td>47</td>\n",
       "      <td>2010-10-08</td>\n",
       "      <td>-58.00</td>\n",
       "      <td>False</td>\n",
       "      <td>A</td>\n",
       "      <td>151315</td>\n",
       "      <td>63.93</td>\n",
       "      <td>2.633</td>\n",
       "      <td>NaN</td>\n",
       "      <td>NaN</td>\n",
       "      <td>NaN</td>\n",
       "      <td>NaN</td>\n",
       "      <td>NaN</td>\n",
       "      <td>211.746754</td>\n",
       "      <td>7.838</td>\n",
       "    </tr>\n",
       "    <tr>\n",
       "      <th>3632</th>\n",
       "      <td>1</td>\n",
       "      <td>54</td>\n",
       "      <td>2011-01-21</td>\n",
       "      <td>-50.00</td>\n",
       "      <td>False</td>\n",
       "      <td>A</td>\n",
       "      <td>151315</td>\n",
       "      <td>44.04</td>\n",
       "      <td>3.016</td>\n",
       "      <td>NaN</td>\n",
       "      <td>NaN</td>\n",
       "      <td>NaN</td>\n",
       "      <td>NaN</td>\n",
       "      <td>NaN</td>\n",
       "      <td>211.827234</td>\n",
       "      <td>7.742</td>\n",
       "    </tr>\n",
       "    <tr>\n",
       "      <th>4419</th>\n",
       "      <td>1</td>\n",
       "      <td>47</td>\n",
       "      <td>2011-04-08</td>\n",
       "      <td>-298.00</td>\n",
       "      <td>False</td>\n",
       "      <td>A</td>\n",
       "      <td>151315</td>\n",
       "      <td>67.84</td>\n",
       "      <td>3.622</td>\n",
       "      <td>NaN</td>\n",
       "      <td>NaN</td>\n",
       "      <td>NaN</td>\n",
       "      <td>NaN</td>\n",
       "      <td>NaN</td>\n",
       "      <td>215.074394</td>\n",
       "      <td>7.682</td>\n",
       "    </tr>\n",
       "    <tr>\n",
       "      <th>...</th>\n",
       "      <td>...</td>\n",
       "      <td>...</td>\n",
       "      <td>...</td>\n",
       "      <td>...</td>\n",
       "      <td>...</td>\n",
       "      <td>...</td>\n",
       "      <td>...</td>\n",
       "      <td>...</td>\n",
       "      <td>...</td>\n",
       "      <td>...</td>\n",
       "      <td>...</td>\n",
       "      <td>...</td>\n",
       "      <td>...</td>\n",
       "      <td>...</td>\n",
       "      <td>...</td>\n",
       "      <td>...</td>\n",
       "    </tr>\n",
       "    <tr>\n",
       "      <th>419999</th>\n",
       "      <td>45</td>\n",
       "      <td>49</td>\n",
       "      <td>2012-05-18</td>\n",
       "      <td>-3.97</td>\n",
       "      <td>False</td>\n",
       "      <td>B</td>\n",
       "      <td>118221</td>\n",
       "      <td>66.30</td>\n",
       "      <td>3.848</td>\n",
       "      <td>6813.74</td>\n",
       "      <td>NaN</td>\n",
       "      <td>13.86</td>\n",
       "      <td>936.49</td>\n",
       "      <td>2941.55</td>\n",
       "      <td>190.996448</td>\n",
       "      <td>8.567</td>\n",
       "    </tr>\n",
       "    <tr>\n",
       "      <th>420066</th>\n",
       "      <td>45</td>\n",
       "      <td>49</td>\n",
       "      <td>2012-05-25</td>\n",
       "      <td>-4.97</td>\n",
       "      <td>False</td>\n",
       "      <td>B</td>\n",
       "      <td>118221</td>\n",
       "      <td>67.21</td>\n",
       "      <td>3.798</td>\n",
       "      <td>5370.39</td>\n",
       "      <td>NaN</td>\n",
       "      <td>361.22</td>\n",
       "      <td>1287.62</td>\n",
       "      <td>2461.81</td>\n",
       "      <td>191.002810</td>\n",
       "      <td>8.567</td>\n",
       "    </tr>\n",
       "    <tr>\n",
       "      <th>420403</th>\n",
       "      <td>45</td>\n",
       "      <td>49</td>\n",
       "      <td>2012-06-29</td>\n",
       "      <td>-34.00</td>\n",
       "      <td>False</td>\n",
       "      <td>B</td>\n",
       "      <td>118221</td>\n",
       "      <td>75.22</td>\n",
       "      <td>3.506</td>\n",
       "      <td>3291.36</td>\n",
       "      <td>425.60</td>\n",
       "      <td>NaN</td>\n",
       "      <td>314.88</td>\n",
       "      <td>2255.34</td>\n",
       "      <td>191.099246</td>\n",
       "      <td>8.567</td>\n",
       "    </tr>\n",
       "    <tr>\n",
       "      <th>420736</th>\n",
       "      <td>45</td>\n",
       "      <td>49</td>\n",
       "      <td>2012-08-03</td>\n",
       "      <td>-1.91</td>\n",
       "      <td>False</td>\n",
       "      <td>B</td>\n",
       "      <td>118221</td>\n",
       "      <td>76.58</td>\n",
       "      <td>3.654</td>\n",
       "      <td>24853.05</td>\n",
       "      <td>39.56</td>\n",
       "      <td>17.96</td>\n",
       "      <td>11142.69</td>\n",
       "      <td>2768.32</td>\n",
       "      <td>191.164090</td>\n",
       "      <td>8.684</td>\n",
       "    </tr>\n",
       "    <tr>\n",
       "      <th>421142</th>\n",
       "      <td>45</td>\n",
       "      <td>49</td>\n",
       "      <td>2012-09-14</td>\n",
       "      <td>-6.83</td>\n",
       "      <td>False</td>\n",
       "      <td>B</td>\n",
       "      <td>118221</td>\n",
       "      <td>67.87</td>\n",
       "      <td>3.948</td>\n",
       "      <td>11407.95</td>\n",
       "      <td>NaN</td>\n",
       "      <td>4.30</td>\n",
       "      <td>3421.72</td>\n",
       "      <td>5268.92</td>\n",
       "      <td>191.699850</td>\n",
       "      <td>8.684</td>\n",
       "    </tr>\n",
       "  </tbody>\n",
       "</table>\n",
       "<p>1285 rows × 16 columns</p>\n",
       "</div>"
      ],
      "text/plain": [
       "        Store  Dept       Date  Weekly_Sales  IsHoliday Type    Size  \\\n",
       "188         1    47 2010-02-19       -863.00      False    A  151315   \n",
       "406         1    47 2010-03-12       -698.00      False    A  151315   \n",
       "2549        1    47 2010-10-08        -58.00      False    A  151315   \n",
       "3632        1    54 2011-01-21        -50.00      False    A  151315   \n",
       "4419        1    47 2011-04-08       -298.00      False    A  151315   \n",
       "...       ...   ...        ...           ...        ...  ...     ...   \n",
       "419999     45    49 2012-05-18         -3.97      False    B  118221   \n",
       "420066     45    49 2012-05-25         -4.97      False    B  118221   \n",
       "420403     45    49 2012-06-29        -34.00      False    B  118221   \n",
       "420736     45    49 2012-08-03         -1.91      False    B  118221   \n",
       "421142     45    49 2012-09-14         -6.83      False    B  118221   \n",
       "\n",
       "        Temperature  Fuel_Price  MarkDown1  MarkDown2  MarkDown3  MarkDown4  \\\n",
       "188           39.93       2.514        NaN        NaN        NaN        NaN   \n",
       "406           57.79       2.667        NaN        NaN        NaN        NaN   \n",
       "2549          63.93       2.633        NaN        NaN        NaN        NaN   \n",
       "3632          44.04       3.016        NaN        NaN        NaN        NaN   \n",
       "4419          67.84       3.622        NaN        NaN        NaN        NaN   \n",
       "...             ...         ...        ...        ...        ...        ...   \n",
       "419999        66.30       3.848    6813.74        NaN      13.86     936.49   \n",
       "420066        67.21       3.798    5370.39        NaN     361.22    1287.62   \n",
       "420403        75.22       3.506    3291.36     425.60        NaN     314.88   \n",
       "420736        76.58       3.654   24853.05      39.56      17.96   11142.69   \n",
       "421142        67.87       3.948   11407.95        NaN       4.30    3421.72   \n",
       "\n",
       "        MarkDown5         CPI  Unemployment  \n",
       "188           NaN  211.289143         8.106  \n",
       "406           NaN  211.380643         8.106  \n",
       "2549          NaN  211.746754         7.838  \n",
       "3632          NaN  211.827234         7.742  \n",
       "4419          NaN  215.074394         7.682  \n",
       "...           ...         ...           ...  \n",
       "419999    2941.55  190.996448         8.567  \n",
       "420066    2461.81  191.002810         8.567  \n",
       "420403    2255.34  191.099246         8.567  \n",
       "420736    2768.32  191.164090         8.684  \n",
       "421142    5268.92  191.699850         8.684  \n",
       "\n",
       "[1285 rows x 16 columns]"
      ]
     },
     "execution_count": 23,
     "metadata": {},
     "output_type": "execute_result"
    }
   ],
   "source": [
    "df[df['Weekly_Sales'] <0]"
   ]
  },
  {
   "cell_type": "code",
   "execution_count": 24,
   "metadata": {
    "execution": {
     "iopub.execute_input": "2022-11-26T20:42:22.566076Z",
     "iopub.status.busy": "2022-11-26T20:42:22.565630Z",
     "iopub.status.idle": "2022-11-26T20:42:22.606170Z",
     "shell.execute_reply": "2022-11-26T20:42:22.605046Z",
     "shell.execute_reply.started": "2022-11-26T20:42:22.566032Z"
    }
   },
   "outputs": [
    {
     "data": {
      "text/plain": [
       "Store                0\n",
       "Dept                 0\n",
       "Date                 0\n",
       "Weekly_Sales         0\n",
       "IsHoliday            0\n",
       "Type                 0\n",
       "Size                 0\n",
       "Temperature          0\n",
       "Fuel_Price           0\n",
       "MarkDown1       270889\n",
       "MarkDown2       310322\n",
       "MarkDown3       284479\n",
       "MarkDown4       286603\n",
       "MarkDown5       270138\n",
       "CPI                  0\n",
       "Unemployment         0\n",
       "dtype: int64"
      ]
     },
     "execution_count": 24,
     "metadata": {},
     "output_type": "execute_result"
    }
   ],
   "source": [
    "# Null Values \n",
    "\n",
    "df.isnull().sum()"
   ]
  },
  {
   "cell_type": "code",
   "execution_count": 25,
   "metadata": {
    "execution": {
     "iopub.execute_input": "2022-11-26T20:42:22.607942Z",
     "iopub.status.busy": "2022-11-26T20:42:22.607367Z",
     "iopub.status.idle": "2022-11-26T20:42:24.886555Z",
     "shell.execute_reply": "2022-11-26T20:42:24.885562Z",
     "shell.execute_reply.started": "2022-11-26T20:42:22.607910Z"
    }
   },
   "outputs": [],
   "source": [
    "# Filling the 'NaN' in Markdown columns to 0\n",
    "df.fillna(0, inplace = True)"
   ]
  },
  {
   "cell_type": "code",
   "execution_count": 26,
   "metadata": {
    "execution": {
     "iopub.execute_input": "2022-11-26T20:42:24.888339Z",
     "iopub.status.busy": "2022-11-26T20:42:24.887980Z",
     "iopub.status.idle": "2022-11-26T20:42:25.239095Z",
     "shell.execute_reply": "2022-11-26T20:42:25.237845Z",
     "shell.execute_reply.started": "2022-11-26T20:42:24.888306Z"
    }
   },
   "outputs": [],
   "source": [
    "# Extracting features out of Date.\n",
    "df['Month'] = df['Date'].dt.month_name()\n",
    "df['WeekNumber'] = df['Date'].dt.week\n",
    "df['Year'] = df['Date'].dt.year"
   ]
  },
  {
   "cell_type": "code",
   "execution_count": 27,
   "metadata": {},
   "outputs": [],
   "source": [
    "# Rearanging columns i.e Placing Weekly_Sales at the last.\n",
    "Weekly_Sales = df.pop(\"Weekly_Sales\")\n",
    "\n",
    "# insert column with insert(location, column_name, column_value)\n",
    "\n",
    "df.insert(df.shape[1], \"Weekly_Sales\", Weekly_Sales)\n"
   ]
  },
  {
   "cell_type": "code",
   "execution_count": 28,
   "metadata": {},
   "outputs": [],
   "source": [
    "# df.to_csv(\"trainMerged.csv\", index = False)"
   ]
  },
  {
   "cell_type": "code",
   "execution_count": 29,
   "metadata": {},
   "outputs": [
    {
     "data": {
      "image/png": "[encoded data removed]",
      "text/plain": [
       "<Figure size 1440x1080 with 2 Axes>"
      ]
     },
     "metadata": {},
     "output_type": "display_data"
    }
   ],
   "source": [
    "from dython import nominal\n",
    "\n",
    "df.drop(columns=['MarkDown1','MarkDown2','MarkDown3','MarkDown4','MarkDown5','Date','Size'], inplace = True)\n",
    "nominal.associations(df, nominal_columns=['Store','Dept','IsHoliday','Type','Month','WeekNumber'])\n",
    "plt.show()"
   ]
  },
  {
   "cell_type": "code",
   "execution_count": 30,
   "metadata": {},
   "outputs": [],
   "source": [
    "# Dopping columns 'Temperature' and 'Fuel Price' based on 0 correlation with weekly sales \n",
    "\n",
    "df.drop(columns =['Temperature','Fuel_Price'], inplace = True)"
   ]
  },
  {
   "cell_type": "code",
   "execution_count": 31,
   "metadata": {},
   "outputs": [],
   "source": [
    "# Label Encoding 'Type'\n",
    "# df['Type'] = df['Type'].map({'A':3, 'B':2, 'C':1})"
   ]
  },
  {
   "cell_type": "code",
   "execution_count": 32,
   "metadata": {
    "execution": {
     "iopub.execute_input": "2022-11-26T20:42:25.240698Z",
     "iopub.status.busy": "2022-11-26T20:42:25.240347Z",
     "iopub.status.idle": "2022-11-26T20:42:25.370966Z",
     "shell.execute_reply": "2022-11-26T20:42:25.369812Z",
     "shell.execute_reply.started": "2022-11-26T20:42:25.240667Z"
    }
   },
   "outputs": [
    {
     "name": "stdout",
     "output_type": "stream",
     "text": [
      "<class 'pandas.core.frame.DataFrame'>\n",
      "Int64Index: 421570 entries, 0 to 421569\n",
      "Data columns (total 10 columns):\n",
      " #   Column        Non-Null Count   Dtype   \n",
      "---  ------        --------------   -----   \n",
      " 0   Store         421570 non-null  category\n",
      " 1   Dept          421570 non-null  category\n",
      " 2   IsHoliday     421570 non-null  category\n",
      " 3   Type          421570 non-null  category\n",
      " 4   CPI           421570 non-null  float64 \n",
      " 5   Unemployment  421570 non-null  float64 \n",
      " 6   Month         421570 non-null  category\n",
      " 7   WeekNumber    421570 non-null  category\n",
      " 8   Year          421570 non-null  int64   \n",
      " 9   Weekly_Sales  421570 non-null  float64 \n",
      "dtypes: category(6), float64(3), int64(1)\n",
      "memory usage: 18.5 MB\n"
     ]
    }
   ],
   "source": [
    "# Converting columns to categorical dtype .\n",
    "\n",
    "cols_to_convert = ['Store','Dept','IsHoliday', 'Month', 'WeekNumber','Type']\n",
    "\n",
    "for col in cols_to_convert:\n",
    "    df[col] = df[col].astype('category')\n",
    "df.info()"
   ]
  },
  {
   "cell_type": "code",
   "execution_count": 33,
   "metadata": {},
   "outputs": [],
   "source": [
    "df_dummies = pd.get_dummies(df, drop_first=True)"
   ]
  },
  {
   "cell_type": "code",
   "execution_count": 34,
   "metadata": {},
   "outputs": [],
   "source": [
    "X = df_dummies.drop('Weekly_Sales' , axis = 1)\n",
    "y = df_dummies['Weekly_Sales']"
   ]
  },
  {
   "cell_type": "markdown",
   "metadata": {},
   "source": [
    "# Modelling \n",
    "\n",
    "`Metrics = Weighted Mean Absoulute Error` \\\n",
    "`Validation = K- Fold Validation - i.e 5 Fold`"
   ]
  },
  {
   "cell_type": "markdown",
   "metadata": {},
   "source": [
    "## Train/ Test Split"
   ]
  },
  {
   "cell_type": "code",
   "execution_count": 35,
   "metadata": {},
   "outputs": [],
   "source": [
    "from sklearn.model_selection import train_test_split\n",
    "X_train, X_test, y_train, y_test = train_test_split(X, y, test_size=0.20,  random_state=54)"
   ]
  },
  {
   "cell_type": "code",
   "execution_count": 36,
   "metadata": {},
   "outputs": [],
   "source": [
    "from sklearn.metrics import mean_absolute_error\n",
    "from sklearn.metrics import r2_score\n",
    "from sklearn.model_selection import cross_val_score\n",
    "from sklearn.model_selection import KFold\n",
    "from sklearn.preprocessing import StandardScaler\n",
    "\n",
    "\n",
    "\n",
    "def find_wmae(model, X_test, y_test, norm = False):\n",
    "    weights = np.where(X_test['IsHoliday_True'] == 1, 5, 1)\n",
    "    y_pred = model.predict(X_test)\n",
    "    wmae = np.sum((weights * np.absolute(y_test - y_pred)))/ np.sum(weights)\n",
    "    r2 = r2_score(y_test, y_pred)\n",
    "    return {\"wmae\": wmae, \"r2_score\":r2}\n",
    "\n"
   ]
  },
  {
   "cell_type": "markdown",
   "metadata": {},
   "source": [
    "## Regression"
   ]
  },
  {
   "cell_type": "markdown",
   "metadata": {},
   "source": [
    "### Linear Regression "
   ]
  },
  {
   "cell_type": "code",
   "execution_count": 40,
   "metadata": {},
   "outputs": [
    {
     "name": "stdout",
     "output_type": "stream",
     "text": [
      "{'wmae': 8278.412784486693, 'r2_score': 0.666456095119248}\n"
     ]
    }
   ],
   "source": [
    "from sklearn.linear_model import LinearRegression\n",
    "from sklearn.preprocessing import StandardScaler\n",
    "\n",
    "LinearReg = LinearRegression()\n",
    "LinearReg.fit(X_train, y_train)\n",
    "print(find_wmae(LinearReg, X_test, y_test))"
   ]
  },
  {
   "cell_type": "markdown",
   "metadata": {},
   "source": [
    "### Lasso "
   ]
  },
  {
   "cell_type": "code",
   "execution_count": 41,
   "metadata": {},
   "outputs": [
    {
     "name": "stdout",
     "output_type": "stream",
     "text": [
      "{'wmae': 8260.912685436408, 'r2_score': 0.6662565404856111}\n"
     ]
    }
   ],
   "source": [
    "from sklearn.linear_model import Lasso\n",
    "LassoReg = Lasso()\n",
    "LassoReg.fit(X_train, y_train)\n",
    "print(find_wmae(LassoReg, X_test, y_test))"
   ]
  },
  {
   "cell_type": "markdown",
   "metadata": {},
   "source": [
    "### Ridge Regression"
   ]
  },
  {
   "cell_type": "code",
   "execution_count": 42,
   "metadata": {},
   "outputs": [
    {
     "name": "stdout",
     "output_type": "stream",
     "text": [
      "{'wmae': 8277.489418090543, 'r2_score': 0.666459909985732}\n"
     ]
    }
   ],
   "source": [
    "from sklearn.linear_model import Ridge\n",
    "RidgeReg = Ridge()\n",
    "RidgeReg.fit(X_train, y_train)\n",
    "print(find_wmae(RidgeReg, X_test, y_test))"
   ]
  },
  {
   "cell_type": "markdown",
   "metadata": {},
   "source": [
    "# Tree Based Regression"
   ]
  },
  {
   "cell_type": "markdown",
   "metadata": {},
   "source": [
    "## Decision Tree Regressor"
   ]
  },
  {
   "cell_type": "code",
   "execution_count": 43,
   "metadata": {},
   "outputs": [
    {
     "name": "stdout",
     "output_type": "stream",
     "text": [
      "{'wmae': 1981.7296496986555, 'r2_score': 0.9432372238238076}\n"
     ]
    }
   ],
   "source": [
    "from sklearn.tree import DecisionTreeRegressor\n",
    "\n",
    "DTReg =  DecisionTreeRegressor(random_state=54)\n",
    "DTReg.fit(X_train, y_train)\n",
    "print(find_wmae(DTReg, X_test, y_test))\n"
   ]
  },
  {
   "cell_type": "markdown",
   "metadata": {},
   "source": [
    "## Random Forest Regressor"
   ]
  },
  {
   "cell_type": "code",
   "execution_count": 44,
   "metadata": {},
   "outputs": [
    {
     "name": "stdout",
     "output_type": "stream",
     "text": [
      "{'wmae': 1782.9569730737132, 'r2_score': 0.9602421919824752}\n"
     ]
    }
   ],
   "source": [
    "from sklearn.ensemble import RandomForestRegressor\n",
    "\n",
    "RFReg =  RandomForestRegressor(random_state=54)\n",
    "RFReg.fit(X_train, y_train)\n",
    "print(find_wmae(RFReg, X_test, y_test))"
   ]
  },
  {
   "cell_type": "markdown",
   "metadata": {},
   "source": [
    "## XGBoost Regressor"
   ]
  },
  {
   "cell_type": "code",
   "execution_count": 45,
   "metadata": {},
   "outputs": [
    {
     "name": "stdout",
     "output_type": "stream",
     "text": [
      "{'wmae': 5030.8009747668175, 'r2_score': 0.8785078952438976}\n"
     ]
    }
   ],
   "source": [
    "from lightgbm import LGBMRegressor\n",
    "\n",
    "xgbReg = LGBMRegressor(random_state=54)\n",
    "xgbReg.fit(X_train,y_train)\n",
    "print(find_wmae(xgbReg, X_test, y_test))"
   ]
  },
  {
   "cell_type": "code",
   "execution_count": 46,
   "metadata": {},
   "outputs": [],
   "source": [
    "# plt.figure(figsize=(10,7))\n",
    "# feat_importances = pd.Series(bestXGB.feature_importances_, index = X_train.columns)\n",
    "# feat_importances.nlargest(30).plot(kind='barh');"
   ]
  },
  {
   "cell_type": "markdown",
   "metadata": {},
   "source": [
    "## Extra Tree Regressor"
   ]
  },
  {
   "cell_type": "code",
   "execution_count": 47,
   "metadata": {},
   "outputs": [
    {
     "name": "stdout",
     "output_type": "stream",
     "text": [
      "{'wmae': 1689.285468290218, 'r2_score': 0.956266230763849}\n"
     ]
    }
   ],
   "source": [
    "from sklearn.ensemble import ExtraTreesRegressor\n",
    "from sklearn.model_selection import train_test_split\n",
    "\n",
    "etReg =  ExtraTreesRegressor(random_state=54)\n",
    "etReg.fit(X_train,y_train)\n",
    "print(find_wmae(etReg, X_test, y_test))"
   ]
  },
  {
   "cell_type": "code",
   "execution_count": 48,
   "metadata": {},
   "outputs": [],
   "source": [
    "# Hyper Parameter Tuning for best Parameter in RF"
   ]
  },
  {
   "cell_type": "code",
   "execution_count": 49,
   "metadata": {},
   "outputs": [
    {
     "data": {
      "text/plain": [
       "{'bootstrap': True,\n",
       " 'ccp_alpha': 0.0,\n",
       " 'criterion': 'squared_error',\n",
       " 'max_depth': None,\n",
       " 'max_features': 1.0,\n",
       " 'max_leaf_nodes': None,\n",
       " 'max_samples': None,\n",
       " 'min_impurity_decrease': 0.0,\n",
       " 'min_samples_leaf': 1,\n",
       " 'min_samples_split': 2,\n",
       " 'min_weight_fraction_leaf': 0.0,\n",
       " 'n_estimators': 100,\n",
       " 'n_jobs': None,\n",
       " 'oob_score': False,\n",
       " 'random_state': 54,\n",
       " 'verbose': 0,\n",
       " 'warm_start': False}"
      ]
     },
     "execution_count": 49,
     "metadata": {},
     "output_type": "execute_result"
    }
   ],
   "source": [
    "RFReg.get_params()"
   ]
  },
  {
   "cell_type": "markdown",
   "metadata": {},
   "source": [
    "# Best Parameter"
   ]
  },
  {
   "cell_type": "code",
   "execution_count": 104,
   "metadata": {},
   "outputs": [],
   "source": [
    "# from sklearn.model_selection import RandomizedSearchCV\n",
    "\n",
    "# RF= RandomForestRegressor()\n",
    "\n",
    "# params = [{ 'max_depth': list(range(15, 20)), \n",
    "#             'n_estimators': [700, 800, 900, 1000,1200,1300,1500],\n",
    "#             'bootstrap' :[True, False],\n",
    "#             'max_features' : ['auto']}]\n",
    "# bestRF= RandomizedSearchCV(RF, params, cv = 3, scoring='r2')\n",
    "# bestRF.fit(X_train, y_train)"
   ]
  },
  {
   "cell_type": "code",
   "execution_count": 50,
   "metadata": {},
   "outputs": [],
   "source": [
    "def test_preprocessing(data):\n",
    "    data['Date'] =  pd.to_datetime(data['Date'])\n",
    "\n",
    "    df_test = pd.merge(data, stores, how = 'inner', on = 'Store')\n",
    "    df_test = pd.merge(df_test , features, how = 'inner', on = ['Date','Store','IsHoliday'])\n",
    "\n",
    "    submission_id = df_test['Store'].astype(str)+'_'+df_test['Dept'].astype(str)+'_'+df_test['Date'].astype(str)\n",
    "\n",
    "    df_merged = df_test.copy()\n",
    "\n",
    "    df_test['CPI']=df_test.groupby(['Dept'])['CPI'].transform(lambda x: x.fillna(x.mean()))\n",
    "    df_test['Unemployment']=df_test.groupby(['Dept'])['Unemployment'].transform(lambda x: x.fillna(x.mean()))\n",
    "\n",
    "    df_test['Month'] = df_test['Date'].dt.month_name()\n",
    "    df_test['WeekNumber'] = df_test['Date'].dt.week\n",
    "    df_test['Year'] = df_test['Date'].dt.year\n",
    "\n",
    "    df_test.to_csv(\"testMerged.csv\", index= False)\n",
    "\n",
    "    df_test.drop(columns=['MarkDown1','MarkDown2','MarkDown3','MarkDown4','MarkDown5','Date','Size','Temperature','Fuel_Price'], inplace = True)\n",
    "\n",
    "    # df['Type'] = df['Type'].map({'A':3, 'B':2, 'C':1})\n",
    "\n",
    "\n",
    "    for col in cols_to_convert:\n",
    "        df_test[col] = df_test[col].astype('category')\n",
    "\n",
    "    df_dummies_test = pd.get_dummies(df_test,drop_first=True)\n",
    "    \n",
    "\n",
    "    train_cols = X_train.columns.tolist()\n",
    "    \n",
    "    test_cols = df_dummies_test.columns.tolist()\n",
    "\n",
    "    missing_columns = list(set(train_cols)-set(test_cols))\n",
    "\n",
    "    print(missing_columns)\n",
    "\n",
    "    for col in missing_columns:\n",
    "        df_dummies_test[col] = 0\n",
    "\n",
    "    x_test =  df_dummies_test[train_cols]\n",
    "    \n",
    "    return x_test, submission_id"
   ]
  },
  {
   "cell_type": "code",
   "execution_count": 51,
   "metadata": {},
   "outputs": [
    {
     "name": "stdout",
     "output_type": "stream",
     "text": [
      "['WeekNumber_31', 'WeekNumber_40', 'WeekNumber_38', 'WeekNumber_39', 'Month_October', 'WeekNumber_43', 'WeekNumber_41', 'WeekNumber_32', 'Month_September', 'WeekNumber_37', 'WeekNumber_33', 'WeekNumber_34', 'WeekNumber_36', 'Month_August', 'WeekNumber_35', 'WeekNumber_42']\n"
     ]
    }
   ],
   "source": [
    "testData = pd.read_csv(\"test.csv\")\n",
    "test, submission_id= test_preprocessing(testData)\n"
   ]
  },
  {
   "cell_type": "code",
   "execution_count": 55,
   "metadata": {},
   "outputs": [],
   "source": [
    "models = [LinearReg, LassoReg, RidgeReg, DTReg, RFReg, xgbReg, etReg]\n",
    "\n",
    "for model in models:\n",
    "    y_pred = model.predict(test)\n",
    "    submission = pd.read_csv(\"sampleSubmission.csv\")\n",
    "    submission['Weekly_Sales'] = y_pred\n",
    "    submission['Id'] = submission_id\n",
    "    # if model != bestRF:\n",
    "    #     submission.to_csv(f\"bestRF_submission.csv\",index = False)\n",
    "    # else:\n",
    "    #     submission.to_csv(f\"{str(model)}_submission.csv\",index = False)\n",
    "\n",
    "    submission.to_csv(f\"{str(model)}__submission.csv\",index = False)"
   ]
  },
  {
   "cell_type": "code",
   "execution_count": null,
   "metadata": {},
   "outputs": [
    {
     "data": {
      "text/html": [
       "<div>\n",
       "<style scoped>\n",
       "    .dataframe tbody tr th:only-of-type {\n",
       "        vertical-align: middle;\n",
       "    }\n",
       "\n",
       "    .dataframe tbody tr th {\n",
       "        vertical-align: top;\n",
       "    }\n",
       "\n",
       "    .dataframe thead th {\n",
       "        text-align: right;\n",
       "    }\n",
       "</style>\n",
       "<table border=\"1\" class=\"dataframe\">\n",
       "  <thead>\n",
       "    <tr style=\"text-align: right;\">\n",
       "      <th></th>\n",
       "      <th>Id</th>\n",
       "      <th>Weekly_Sales</th>\n",
       "    </tr>\n",
       "  </thead>\n",
       "  <tbody>\n",
       "    <tr>\n",
       "      <th>0</th>\n",
       "      <td>1_1_2012-11-02</td>\n",
       "      <td>29354.03</td>\n",
       "    </tr>\n",
       "    <tr>\n",
       "      <th>1</th>\n",
       "      <td>1_2_2012-11-02</td>\n",
       "      <td>17978.28</td>\n",
       "    </tr>\n",
       "    <tr>\n",
       "      <th>2</th>\n",
       "      <td>1_3_2012-11-02</td>\n",
       "      <td>708.15</td>\n",
       "    </tr>\n",
       "    <tr>\n",
       "      <th>3</th>\n",
       "      <td>1_4_2012-11-02</td>\n",
       "      <td>16763.10</td>\n",
       "    </tr>\n",
       "    <tr>\n",
       "      <th>4</th>\n",
       "      <td>1_5_2012-11-02</td>\n",
       "      <td>905.52</td>\n",
       "    </tr>\n",
       "    <tr>\n",
       "      <th>...</th>\n",
       "      <td>...</td>\n",
       "      <td>...</td>\n",
       "    </tr>\n",
       "    <tr>\n",
       "      <th>115059</th>\n",
       "      <td>45_93_2013-07-26</td>\n",
       "      <td>22465.11</td>\n",
       "    </tr>\n",
       "    <tr>\n",
       "      <th>115060</th>\n",
       "      <td>45_94_2013-07-26</td>\n",
       "      <td>25609.43</td>\n",
       "    </tr>\n",
       "    <tr>\n",
       "      <th>115061</th>\n",
       "      <td>45_95_2013-07-26</td>\n",
       "      <td>52894.72</td>\n",
       "    </tr>\n",
       "    <tr>\n",
       "      <th>115062</th>\n",
       "      <td>45_97_2013-07-26</td>\n",
       "      <td>18054.64</td>\n",
       "    </tr>\n",
       "    <tr>\n",
       "      <th>115063</th>\n",
       "      <td>45_98_2013-07-26</td>\n",
       "      <td>2897.76</td>\n",
       "    </tr>\n",
       "  </tbody>\n",
       "</table>\n",
       "<p>115064 rows × 2 columns</p>\n",
       "</div>"
      ],
      "text/plain": [
       "                      Id  Weekly_Sales\n",
       "0         1_1_2012-11-02      29354.03\n",
       "1         1_2_2012-11-02      17978.28\n",
       "2         1_3_2012-11-02        708.15\n",
       "3         1_4_2012-11-02      16763.10\n",
       "4         1_5_2012-11-02        905.52\n",
       "...                  ...           ...\n",
       "115059  45_93_2013-07-26      22465.11\n",
       "115060  45_94_2013-07-26      25609.43\n",
       "115061  45_95_2013-07-26      52894.72\n",
       "115062  45_97_2013-07-26      18054.64\n",
       "115063  45_98_2013-07-26       2897.76\n",
       "\n",
       "[115064 rows x 2 columns]"
      ]
     },
     "execution_count": 603,
     "metadata": {},
     "output_type": "execute_result"
    }
   ],
   "source": [
    "submission"
   ]
  },
  {
   "cell_type": "code",
   "execution_count": null,
   "metadata": {},
   "outputs": [],
   "source": [
    "results_dict = {'Linear': {'mae': 8250.412784486693, 'r2':0.666056095119248, 'Kaggle Score': \"\"},\n",
    "'Lasso': {'mae': 8288.912685436408, 'r2':0.6666565404856111, 'Kaggle Score':\"\" },\n",
    "'Ridge': {'mae': 8277.489418090543, 'r2':0.666459909985732, 'Kaggle Score':\"\" },\n",
    "'DecisionTree': {'mae': 1981.7296496986555, 'r2':9432372238238076, 'Kaggle Score': \"\"},\n",
    "'RandomForest': {'mae': 1782.9569730737132, 'r2':0.9602421919824752, 'Kaggle Score': \"\"},\n",
    "'XGBoost': {'mae': 5030.8009747668175 ,'r2':0.8785078952438976, 'Kaggle Score': \"\"},\n",
    "'ExtraTree': {'mae': 1689.285468290218, 'r2':0.956266230763849, 'Kaggle Score': \"\"},\n",
    "'bestRF': {'mae': 8278.412784486693, 'r2':\"\", 'Kaggle Score': \"\"}}"
   ]
  },
  {
   "cell_type": "markdown",
   "metadata": {},
   "source": []
  },
  {
   "cell_type": "code",
   "execution_count": null,
   "metadata": {},
   "outputs": [],
   "source": [
    "res"
   ]
  },
  {
   "cell_type": "code",
   "execution_count": 38,
   "metadata": {},
   "outputs": [],
   "source": [
    "from sklearn.ensemble import ExtraTreesRegressor\n",
    "bestModel = ExtraTreesRegressor(n_estimators = 1000, bootstrap=True, criterion='mae', max_depth=25)\n",
    "bestModel.fit(X_train,y_train)\n",
    "print(find_wmae(bestModel, X_test, y_test))"
   ]
  },
  {
   "cell_type": "code",
   "execution_count": null,
   "metadata": {},
   "outputs": [],
   "source": []
  }
 ],
 "metadata": {
  "kernelspec": {
   "display_name": "Python 3 (ipykernel)",
   "language": "python",
   "name": "python3"
  },
  "language_info": {
   "codemirror_mode": {
    "name": "ipython",
    "version": 3
   },
   "file_extension": ".py",
   "mimetype": "text/x-python",
   "name": "python",
   "nbconvert_exporter": "python",
   "pygments_lexer": "ipython3",
   "version": "3.10.2"
  },
  "vscode": {
   "interpreter": {
    "hash": "c6e4e9f98eb68ad3b7c296f83d20e6de614cb42e90992a65aa266555a3137d0d"
   }
  }
 },
 "nbformat": 4,
 "nbformat_minor": 4
}
